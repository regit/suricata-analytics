{
 "cells": [
  {
   "cell_type": "markdown",
   "id": "0f856a44",
   "metadata": {},
   "source": [
    "# Suricata ruleset analysis\n",
    "\n",
    "This notebook provides some visualizations on a Suricata ruleset.\n",
    "\n",
    "## Prepare the data\n",
    "\n",
    "Run suricata to generate a `rules.json` file."
   ]
  },
  {
   "cell_type": "code",
   "execution_count": null,
   "id": "da434e55",
   "metadata": {},
   "outputs": [],
   "source": [
    "! #rm data/rules.json\n",
    "! #suricata --engine-analysis -l data -S paw.rules"
   ]
  },
  {
   "cell_type": "markdown",
   "id": "807bad7a",
   "metadata": {},
   "source": [
    "Load `rules.json` from ruleset analysis"
   ]
  },
  {
   "cell_type": "code",
   "execution_count": null,
   "id": "70b28270",
   "metadata": {},
   "outputs": [],
   "source": [
    "import json\n",
    "\n",
    "rules_json = open('scirius/rules.json', 'r')\n",
    "ruleset = []\n",
    "for line in rules_json:\n",
    "    ruleset.append(json.loads(line))"
   ]
  },
  {
   "cell_type": "code",
   "execution_count": null,
   "id": "cdc425b3",
   "metadata": {},
   "outputs": [],
   "source": [
    "#print(json.dumps(ruleset[0], indent=2))\n"
   ]
  },
  {
   "cell_type": "markdown",
   "id": "9d24766a",
   "metadata": {},
   "source": [
    "Generate a simple structure with signature and mpm information"
   ]
  },
  {
   "cell_type": "code",
   "execution_count": null,
   "id": "8a4d8c0b",
   "metadata": {},
   "outputs": [],
   "source": [
    "ruleset_mpm =[]\n",
    "for sig in ruleset:\n",
    "    if 'mpm' in sig:\n",
    "        ruleset_mpm.append({'raw': sig['raw'].replace('$','\\\\$'), 'id': sig['id'], 'msg': sig['msg'], 'proto': sig.get('app_proto', 'raw'), 'buffer': sig['mpm']['buffer'], 'pattern': sig['mpm']['pattern']})"
   ]
  },
  {
   "cell_type": "markdown",
   "id": "92ee009f",
   "metadata": {},
   "source": [
    "## Find overused patterns\n",
    "\n",
    "With a lot of signatures attached triggering potential long linear evaluation"
   ]
  },
  {
   "cell_type": "code",
   "execution_count": null,
   "id": "76d9ae75",
   "metadata": {
    "scrolled": true
   },
   "outputs": [],
   "source": [
    "import networkx as nx\n",
    "import html\n",
    "\n",
    "G = nx.Graph()\n",
    "\n",
    "for sig in ruleset_mpm:\n",
    "    #G.add_node(sig['proto'], type='proto')\n",
    "    G.add_node(sig['id'], type='sig')\n",
    "    G.add_node(sig['buffer'], type='buffer')\n",
    "    pattern = html.escape(sig['pattern'])\n",
    "    G.add_node(pattern, type='pattern')\n",
    "    G.add_edge(sig['id'], pattern)\n",
    "    G.add_edge(pattern, sig['buffer'])\n",
    "    #G.add_edge(sig['buffer'], sig['proto'])\n",
    "    #G.add_edge(sig['buffer'], sig['id'])"
   ]
  },
  {
   "cell_type": "code",
   "execution_count": null,
   "id": "4668624d",
   "metadata": {},
   "outputs": [],
   "source": [
    "import pandas as pd\n",
    "from ipywidgets import interact, interactive\n",
    "\n",
    "def get_high_degree(degree):\n",
    "    high_degree_patterns = []\n",
    "    pd.set_option(\"max_colwidth\", 440)\n",
    "    for node in G:\n",
    "        if G.nodes[node]['type'] == 'pattern':\n",
    "            if G.degree(node) > degree:\n",
    "                high_degree_patterns.append([html.unescape(node), G.degree(node) - 1])\n",
    "    patterns_pd = pd.DataFrame(high_degree_patterns, columns=['pattern', 'degree']).sort_values('degree', ascending=False)\n",
    "    display(patterns_pd)\n",
    "    return patterns_pd \n",
    "\n",
    "patterns_pd = interactive(get_high_degree, degree=10)\n",
    "display(patterns_pd)"
   ]
  },
  {
   "cell_type": "code",
   "execution_count": null,
   "id": "edeb3c74",
   "metadata": {},
   "outputs": [],
   "source": [
    "from ipywidgets import interact\n",
    "\n",
    "ruleset_pd = pd.DataFrame(ruleset_mpm)\n",
    "\n",
    "pd.set_option(\"max_colwidth\", 440)\n",
    "\n",
    "def display_pattern_sig(pattern='toto'):\n",
    "    display(ruleset_pd[ruleset_pd.pattern==pattern][[\"id\", \"proto\", \"buffer\", \"raw\"]])\n",
    "\n",
    "interact(display_pattern_sig, pattern=patterns_pd.result['pattern'].tolist());"
   ]
  },
  {
   "cell_type": "markdown",
   "id": "39ca9ab3-b241-4a8b-876c-ea19f40ad957",
   "metadata": {},
   "source": [
    "## Signatures with application layer and MPM on payload"
   ]
  },
  {
   "cell_type": "code",
   "execution_count": null,
   "id": "e357b3c5-01e5-4025-9da3-f52b5dc31712",
   "metadata": {},
   "outputs": [],
   "source": [
    "app_mpm_payload_pd = ruleset_pd[(ruleset_pd.proto!='raw') & (ruleset_pd.buffer=='payload')]\n",
    "\n",
    "display(app_mpm_payload_pd['proto'].value_counts())\n",
    "\n",
    "def display_app_sigs(app='http'):\n",
    "    display(app_mpm_payload_pd[app_mpm_payload_pd.proto==app])\n",
    "\n",
    "interact(display_app_sigs, app=app_mpm_payload_pd['proto'].unique());"
   ]
  },
  {
   "cell_type": "code",
   "execution_count": null,
   "id": "01cf757e",
   "metadata": {},
   "outputs": [],
   "source": [
    "import hvplot.networkx as hvnx\n",
    "colors = []\n",
    "for node in G:\n",
    "    if G.nodes[node]['type'] == 'proto':\n",
    "        colors.append('blue')\n",
    "    elif G.nodes[node]['type'] == 'sig':\n",
    "        colors.append('green')\n",
    "    elif G.nodes[node]['type'] == 'pattern':\n",
    "        colors.append('black')\n",
    "    else:\n",
    "        colors.append('red')\n",
    "    \n",
    "pos = nx.spring_layout(G)\n",
    "hvnx.draw(G, pos, node_color=colors, node_size=40, width=800, height=400)"
   ]
  },
  {
   "cell_type": "code",
   "execution_count": null,
   "id": "1b189748-d967-45b5-8338-99b2d19bb8de",
   "metadata": {},
   "outputs": [],
   "source": []
  },
  {
   "cell_type": "code",
   "execution_count": null,
   "id": "b47c3db1",
   "metadata": {},
   "outputs": [],
   "source": [
    "#conda install -y hvplot bokeh networkx\n"
   ]
  },
  {
   "cell_type": "code",
   "execution_count": null,
   "id": "ecd23e1b",
   "metadata": {},
   "outputs": [],
   "source": [
    "#conda install -y panel=0.12.7\n"
   ]
  },
  {
   "cell_type": "code",
   "execution_count": null,
   "id": "8f9f7ba4-a848-4c13-aa17-6f3fb06bc04c",
   "metadata": {},
   "outputs": [],
   "source": []
  }
 ],
 "metadata": {
  "kernelspec": {
   "display_name": "Python 3 (ipykernel)",
   "language": "python",
   "name": "python3"
  },
  "language_info": {
   "codemirror_mode": {
    "name": "ipython",
    "version": 3
   },
   "file_extension": ".py",
   "mimetype": "text/x-python",
   "name": "python",
   "nbconvert_exporter": "python",
   "pygments_lexer": "ipython3",
   "version": "3.9.10"
  }
 },
 "nbformat": 4,
 "nbformat_minor": 5
}
